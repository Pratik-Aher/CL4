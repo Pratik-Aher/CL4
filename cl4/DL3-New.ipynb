{
 "cells": [
  {
   "cell_type": "code",
   "execution_count": 1,
   "id": "32134be4",
   "metadata": {},
   "outputs": [
    {
     "name": "stdout",
     "output_type": "stream",
     "text": [
      "Epoch 1/5\n",
      "782/782 [==============================] - 47s 58ms/step - loss: 0.4109 - accuracy: 0.8083 - val_loss: 0.3760 - val_accuracy: 0.8327\n",
      "Epoch 2/5\n",
      "782/782 [==============================] - 45s 58ms/step - loss: 0.2598 - accuracy: 0.8964 - val_loss: 0.3586 - val_accuracy: 0.8486\n",
      "Epoch 3/5\n",
      "782/782 [==============================] - 44s 57ms/step - loss: 0.1938 - accuracy: 0.9260 - val_loss: 0.3894 - val_accuracy: 0.8476\n",
      "Epoch 4/5\n",
      "782/782 [==============================] - 45s 57ms/step - loss: 0.1363 - accuracy: 0.9502 - val_loss: 0.4508 - val_accuracy: 0.8382\n",
      "Epoch 5/5\n",
      "782/782 [==============================] - 45s 57ms/step - loss: 0.1004 - accuracy: 0.9628 - val_loss: 0.6358 - val_accuracy: 0.8184\n",
      "782/782 [==============================] - 6s 8ms/step - loss: 0.6358 - accuracy: 0.8184\n",
      "Test score: 0.6358458399772644\n",
      "Test accuracy: 0.8183599710464478\n"
     ]
    }
   ],
   "source": [
    "import tensorflow as tf\n",
    "from tensorflow.keras.datasets import imdb\n",
    "from tensorflow.keras.models import Sequential\n",
    "from tensorflow.keras.layers import Embedding, LSTM, Dense\n",
    "from tensorflow.keras.preprocessing.sequence import pad_sequences\n",
    "\n",
    "# Set the parameters\n",
    "max_features = 10000  # Number of words to consider as features\n",
    "maxlen = 100  # Cut texts after this number of words (among top max_features most common words)\n",
    "batch_size = 32\n",
    "\n",
    "# Load the IMDB dataset\n",
    "(x_train, y_train), (x_test, y_test) = imdb.load_data(num_words=max_features)\n",
    "\n",
    "# Pad sequences to have a consistent length for the input to the RNN\n",
    "x_train = pad_sequences(x_train, maxlen=maxlen)\n",
    "x_test = pad_sequences(x_test, maxlen=maxlen)\n",
    "\n",
    "# Build the RNN model with LSTM\n",
    "model = Sequential()\n",
    "model.add(Embedding(max_features, 128))\n",
    "model.add(LSTM(64, dropout=0.2, recurrent_dropout=0.2))\n",
    "model.add(Dense(1, activation='sigmoid'))\n",
    "\n",
    "# Compile the model\n",
    "model.compile(loss='binary_crossentropy', optimizer='adam', metrics=['accuracy'])\n",
    "\n",
    "# Train the model\n",
    "model.fit(x_train, y_train, batch_size=batch_size, epochs=5, validation_data=(x_test, y_test))\n",
    "\n",
    "# Evaluate the model\n",
    "score, acc = model.evaluate(x_test, y_test, batch_size=batch_size)\n",
    "print(f'Test score: {score}')\n",
    "print(f'Test accuracy: {acc}')\n"
   ]
  },
  {
   "cell_type": "code",
   "execution_count": null,
   "id": "ea4b5dc2",
   "metadata": {},
   "outputs": [],
   "source": []
  }
 ],
 "metadata": {
  "kernelspec": {
   "display_name": "Python 3 (ipykernel)",
   "language": "python",
   "name": "python3"
  },
  "language_info": {
   "codemirror_mode": {
    "name": "ipython",
    "version": 3
   },
   "file_extension": ".py",
   "mimetype": "text/x-python",
   "name": "python",
   "nbconvert_exporter": "python",
   "pygments_lexer": "ipython3",
   "version": "3.9.7"
  }
 },
 "nbformat": 4,
 "nbformat_minor": 5
}
