{
 "cells": [
  {
   "cell_type": "code",
   "execution_count": 1,
   "id": "f9f93e6f",
   "metadata": {},
   "outputs": [
    {
     "name": "stdout",
     "output_type": "stream",
     "text": [
      "Epoch 1/20\n",
      "844/844 [==============================] - 17s 19ms/step - loss: 0.3805 - accuracy: 0.8778 - val_loss: 0.0673 - val_accuracy: 0.9807\n",
      "Epoch 2/20\n",
      "844/844 [==============================] - 16s 18ms/step - loss: 0.1348 - accuracy: 0.9592 - val_loss: 0.0420 - val_accuracy: 0.9875\n",
      "Epoch 3/20\n",
      "844/844 [==============================] - 15s 18ms/step - loss: 0.1013 - accuracy: 0.9679 - val_loss: 0.0437 - val_accuracy: 0.9862\n",
      "Epoch 4/20\n",
      "844/844 [==============================] - 15s 18ms/step - loss: 0.0843 - accuracy: 0.9733 - val_loss: 0.0311 - val_accuracy: 0.9917\n",
      "Epoch 5/20\n",
      "844/844 [==============================] - 15s 18ms/step - loss: 0.0728 - accuracy: 0.9773 - val_loss: 0.0303 - val_accuracy: 0.9900\n",
      "Epoch 6/20\n",
      "844/844 [==============================] - 15s 18ms/step - loss: 0.0663 - accuracy: 0.9798 - val_loss: 0.0307 - val_accuracy: 0.9915\n",
      "Epoch 7/20\n",
      "844/844 [==============================] - 15s 18ms/step - loss: 0.0623 - accuracy: 0.9809 - val_loss: 0.0424 - val_accuracy: 0.9875\n",
      "Epoch 8/20\n",
      "844/844 [==============================] - 16s 19ms/step - loss: 0.0581 - accuracy: 0.9829 - val_loss: 0.0312 - val_accuracy: 0.9922\n",
      "Epoch 9/20\n",
      "844/844 [==============================] - 16s 18ms/step - loss: 0.0543 - accuracy: 0.9828 - val_loss: 0.0327 - val_accuracy: 0.9910\n",
      "Epoch 10/20\n",
      "844/844 [==============================] - 15s 18ms/step - loss: 0.0514 - accuracy: 0.9844 - val_loss: 0.0358 - val_accuracy: 0.9902\n",
      "Epoch 11/20\n",
      "844/844 [==============================] - 16s 19ms/step - loss: 0.0475 - accuracy: 0.9855 - val_loss: 0.0240 - val_accuracy: 0.9920\n",
      "Epoch 12/20\n",
      "844/844 [==============================] - 16s 18ms/step - loss: 0.0443 - accuracy: 0.9862 - val_loss: 0.0268 - val_accuracy: 0.9918\n",
      "Epoch 13/20\n",
      "844/844 [==============================] - 16s 19ms/step - loss: 0.0470 - accuracy: 0.9863 - val_loss: 0.0261 - val_accuracy: 0.9922\n",
      "Epoch 14/20\n",
      "844/844 [==============================] - 15s 18ms/step - loss: 0.0418 - accuracy: 0.9870 - val_loss: 0.0238 - val_accuracy: 0.9927\n",
      "Epoch 15/20\n",
      "844/844 [==============================] - 16s 19ms/step - loss: 0.0400 - accuracy: 0.9881 - val_loss: 0.0249 - val_accuracy: 0.9932\n",
      "Epoch 16/20\n",
      "844/844 [==============================] - 16s 19ms/step - loss: 0.0406 - accuracy: 0.9876 - val_loss: 0.0287 - val_accuracy: 0.9918\n",
      "Epoch 17/20\n",
      "844/844 [==============================] - 16s 19ms/step - loss: 0.0379 - accuracy: 0.9888 - val_loss: 0.0219 - val_accuracy: 0.9945\n",
      "Epoch 18/20\n",
      "844/844 [==============================] - 16s 18ms/step - loss: 0.0375 - accuracy: 0.9889 - val_loss: 0.0243 - val_accuracy: 0.9930\n",
      "Epoch 19/20\n",
      "844/844 [==============================] - 15s 18ms/step - loss: 0.0363 - accuracy: 0.9891 - val_loss: 0.0268 - val_accuracy: 0.9930\n",
      "Epoch 20/20\n",
      "844/844 [==============================] - 15s 18ms/step - loss: 0.0351 - accuracy: 0.9894 - val_loss: 0.0298 - val_accuracy: 0.9923\n",
      "313/313 [==============================] - 1s 2ms/step - loss: 0.0177 - accuracy: 0.9939\n",
      "Test Accuracy: 0.9939000010490417\n"
     ]
    },
    {
     "data": {
      "image/png": "[encoded data removed]",
      "text/plain": [
       "<Figure size 432x288 with 1 Axes>"
      ]
     },
     "metadata": {
      "needs_background": "light"
     },
     "output_type": "display_data"
    }
   ],
   "source": [
    "import tensorflow as tf\n",
    "from tensorflow.keras import datasets, layers, models\n",
    "from tensorflow.keras.optimizers import Adam\n",
    "from tensorflow.keras.preprocessing.image import ImageDataGenerator\n",
    "from sklearn.model_selection import train_test_split\n",
    "import matplotlib.pyplot as plt\n",
    "\n",
    "# Load and preprocess the MNIST dataset\n",
    "(train_images, train_labels), (test_images, test_labels) = datasets.mnist.load_data()\n",
    "train_images, test_images = train_images / 255.0, test_images / 255.0\n",
    "\n",
    "# Add channel dimension to the images\n",
    "train_images = train_images.reshape((60000, 28, 28, 1))\n",
    "test_images = test_images.reshape((10000, 28, 28, 1))\n",
    "\n",
    "# Split the dataset into training and validation sets\n",
    "train_images, val_images, train_labels, val_labels = train_test_split(\n",
    "    train_images, train_labels, test_size=0.1, random_state=42)\n",
    "\n",
    "# Data augmentation for training images\n",
    "datagen = ImageDataGenerator(rotation_range=10, zoom_range=0.1,\n",
    "                             width_shift_range=0.1, height_shift_range=0.1)\n",
    "datagen.fit(train_images)\n",
    "\n",
    "# Create a CNN model with hyperparameter tuning and regularization\n",
    "model = models.Sequential()\n",
    "model.add(layers.Conv2D(32, (3, 3), activation='relu', input_shape=(28, 28, 1)))\n",
    "model.add(layers.MaxPooling2D((2, 2)))\n",
    "model.add(layers.Conv2D(64, (3, 3), activation='relu'))\n",
    "model.add(layers.MaxPooling2D((2, 2)))\n",
    "model.add(layers.Conv2D(128, (3, 3), activation='relu'))\n",
    "model.add(layers.Flatten())\n",
    "model.add(layers.Dropout(0.5))\n",
    "model.add(layers.Dense(128, activation='relu'))\n",
    "model.add(layers.Dense(10, activation='softmax'))\n",
    "\n",
    "# Compile the model\n",
    "model.compile(optimizer=Adam(learning_rate=0.001),\n",
    "              loss='sparse_categorical_crossentropy', metrics=['accuracy'])\n",
    "\n",
    "# Train the model with data augmentation\n",
    "history = model.fit(datagen.flow(train_images, train_labels, batch_size=64),\n",
    "                    epochs=20, validation_data=(val_images, val_labels))\n",
    "\n",
    "# Evaluate the model on the test set\n",
    "test_loss, test_acc = model.evaluate(test_images, test_labels)\n",
    "print(f\"Test Accuracy: {test_acc}\")\n",
    "\n",
    "# Plot training history\n",
    "plt.plot(history.history['accuracy'], label='Train Accuracy')\n",
    "plt.plot(history.history['val_accuracy'], label='Validation Accuracy')\n",
    "plt.xlabel('Epoch')\n",
    "plt.ylabel('Accuracy')\n",
    "plt.legend()\n",
    "plt.show()\n"
   ]
  },
  {
   "cell_type": "code",
   "execution_count": null,
   "id": "891f0ecf",
   "metadata": {},
   "outputs": [],
   "source": []
  }
 ],
 "metadata": {
  "kernelspec": {
   "display_name": "Python 3 (ipykernel)",
   "language": "python",
   "name": "python3"
  },
  "language_info": {
   "codemirror_mode": {
    "name": "ipython",
    "version": 3
   },
   "file_extension": ".py",
   "mimetype": "text/x-python",
   "name": "python",
   "nbconvert_exporter": "python",
   "pygments_lexer": "ipython3",
   "version": "3.9.7"
  }
 },
 "nbformat": 4,
 "nbformat_minor": 5
}
