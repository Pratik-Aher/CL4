{
 "cells": [
  {
   "cell_type": "code",
   "execution_count": 1,
   "id": "92ca090d",
   "metadata": {},
   "outputs": [
    {
     "name": "stdout",
     "output_type": "stream",
     "text": [
      "Requirement already satisfied: gym in c:\\users\\aakash\\anaconda3\\lib\\site-packages (0.26.2)\n",
      "Requirement already satisfied: numpy>=1.18.0 in c:\\users\\aakash\\anaconda3\\lib\\site-packages (from gym) (1.22.4)\n",
      "Requirement already satisfied: cloudpickle>=1.2.0 in c:\\users\\aakash\\anaconda3\\lib\\site-packages (from gym) (2.0.0)\n",
      "Requirement already satisfied: gym-notices>=0.0.4 in c:\\users\\aakash\\anaconda3\\lib\\site-packages (from gym) (0.0.8)\n",
      "Requirement already satisfied: importlib-metadata>=4.8.0 in c:\\users\\aakash\\anaconda3\\lib\\site-packages (from gym) (4.8.1)\n",
      "Requirement already satisfied: zipp>=0.5 in c:\\users\\aakash\\anaconda3\\lib\\site-packages (from importlib-metadata>=4.8.0->gym) (3.6.0)\n",
      "Note: you may need to restart the kernel to use updated packages.\n"
     ]
    }
   ],
   "source": [
    "pip install gym"
   ]
  },
  {
   "cell_type": "code",
   "execution_count": 2,
   "id": "83144ca3",
   "metadata": {},
   "outputs": [
    {
     "name": "stdout",
     "output_type": "stream",
     "text": [
      "Note: you may need to restart the kernel to use updated packages.\n"
     ]
    }
   ],
   "source": [
    "pip install shimmy>=0.2.1"
   ]
  },
  {
   "cell_type": "code",
   "execution_count": 3,
   "id": "c53496ed",
   "metadata": {
    "scrolled": true
   },
   "outputs": [
    {
     "name": "stdout",
     "output_type": "stream",
     "text": [
      "Requirement already satisfied: stable-baselines3 in c:\\users\\aakash\\anaconda3\\lib\\site-packages (2.3.0)\n",
      "Requirement already satisfied: gymnasium<0.30,>=0.28.1 in c:\\users\\aakash\\anaconda3\\lib\\site-packages (from stable-baselines3) (0.29.1)\n",
      "Requirement already satisfied: torch>=1.13 in c:\\users\\aakash\\anaconda3\\lib\\site-packages (from stable-baselines3) (2.1.1)\n",
      "Requirement already satisfied: numpy>=1.20 in c:\\users\\aakash\\anaconda3\\lib\\site-packages (from stable-baselines3) (1.22.4)\n",
      "Requirement already satisfied: pandas in c:\\users\\aakash\\anaconda3\\lib\\site-packages (from stable-baselines3) (1.3.4)\n",
      "Requirement already satisfied: cloudpickle in c:\\users\\aakash\\anaconda3\\lib\\site-packages (from stable-baselines3) (2.0.0)\n",
      "Requirement already satisfied: matplotlib in c:\\users\\aakash\\anaconda3\\lib\\site-packages (from stable-baselines3) (3.4.3)\n",
      "Requirement already satisfied: farama-notifications>=0.0.1 in c:\\users\\aakash\\anaconda3\\lib\\site-packages (from gymnasium<0.30,>=0.28.1->stable-baselines3) (0.0.4)\n",
      "Requirement already satisfied: importlib-metadata>=4.8.0 in c:\\users\\aakash\\anaconda3\\lib\\site-packages (from gymnasium<0.30,>=0.28.1->stable-baselines3) (4.8.1)\n",
      "Requirement already satisfied: typing-extensions>=4.3.0 in c:\\users\\aakash\\anaconda3\\lib\\site-packages (from gymnasium<0.30,>=0.28.1->stable-baselines3) (4.11.0)\n",
      "Requirement already satisfied: zipp>=0.5 in c:\\users\\aakash\\anaconda3\\lib\\site-packages (from importlib-metadata>=4.8.0->gymnasium<0.30,>=0.28.1->stable-baselines3) (3.6.0)\n",
      "Requirement already satisfied: filelock in c:\\users\\aakash\\anaconda3\\lib\\site-packages (from torch>=1.13->stable-baselines3) (3.3.1)\n",
      "Requirement already satisfied: sympy in c:\\users\\aakash\\anaconda3\\lib\\site-packages (from torch>=1.13->stable-baselines3) (1.9)\n",
      "Requirement already satisfied: jinja2 in c:\\users\\aakash\\anaconda3\\lib\\site-packages (from torch>=1.13->stable-baselines3) (2.11.3)\n",
      "Requirement already satisfied: networkx in c:\\users\\aakash\\anaconda3\\lib\\site-packages (from torch>=1.13->stable-baselines3) (2.6.3)\n",
      "Requirement already satisfied: fsspec in c:\\users\\aakash\\anaconda3\\lib\\site-packages (from torch>=1.13->stable-baselines3) (2021.10.1)\n",
      "Requirement already satisfied: MarkupSafe>=0.23 in c:\\users\\aakash\\anaconda3\\lib\\site-packages (from jinja2->torch>=1.13->stable-baselines3) (1.1.1)\n",
      "Requirement already satisfied: pyparsing>=2.2.1 in c:\\users\\aakash\\anaconda3\\lib\\site-packages (from matplotlib->stable-baselines3) (3.0.4)\n",
      "Requirement already satisfied: cycler>=0.10 in c:\\users\\aakash\\anaconda3\\lib\\site-packages (from matplotlib->stable-baselines3) (0.10.0)\n",
      "Requirement already satisfied: kiwisolver>=1.0.1 in c:\\users\\aakash\\anaconda3\\lib\\site-packages (from matplotlib->stable-baselines3) (1.3.1)\n",
      "Requirement already satisfied: pillow>=6.2.0 in c:\\users\\aakash\\anaconda3\\lib\\site-packages (from matplotlib->stable-baselines3) (8.4.0)\n",
      "Requirement already satisfied: python-dateutil>=2.7 in c:\\users\\aakash\\anaconda3\\lib\\site-packages (from matplotlib->stable-baselines3) (2.8.2)\n",
      "Requirement already satisfied: six in c:\\users\\aakash\\anaconda3\\lib\\site-packages (from cycler>=0.10->matplotlib->stable-baselines3) (1.16.0)\n",
      "Requirement already satisfied: pytz>=2017.3 in c:\\users\\aakash\\anaconda3\\lib\\site-packages (from pandas->stable-baselines3) (2021.3)\n",
      "Requirement already satisfied: mpmath>=0.19 in c:\\users\\aakash\\anaconda3\\lib\\site-packages (from sympy->torch>=1.13->stable-baselines3) (1.2.1)\n",
      "Note: you may need to restart the kernel to use updated packages.\n"
     ]
    }
   ],
   "source": [
    "pip install stable-baselines3"
   ]
  },
  {
   "cell_type": "code",
   "execution_count": 4,
   "id": "9732c63f",
   "metadata": {},
   "outputs": [],
   "source": [
    "import numpy as np\n",
    "import gym\n",
    "from stable_baselines3 import PPO\n",
    "from stable_baselines3.common.evaluation import evaluate_policy"
   ]
  },
  {
   "cell_type": "code",
   "execution_count": 5,
   "id": "0af6363e",
   "metadata": {},
   "outputs": [],
   "source": [
    "# Define the Pendulum environment\n",
    "env = gym.make('Pendulum-v1')"
   ]
  },
  {
   "cell_type": "code",
   "execution_count": 6,
   "id": "ae1cdfcc",
   "metadata": {},
   "outputs": [
    {
     "name": "stdout",
     "output_type": "stream",
     "text": [
      "Using cpu device\n",
      "Wrapping the env with a `Monitor` wrapper\n",
      "Wrapping the env in a DummyVecEnv.\n"
     ]
    },
    {
     "name": "stderr",
     "output_type": "stream",
     "text": [
      "C:\\Users\\AAKASH\\anaconda3\\lib\\site-packages\\stable_baselines3\\common\\vec_env\\patch_gym.py:49: UserWarning: You provided an OpenAI Gym environment. We strongly recommend transitioning to Gymnasium environments. Stable-Baselines3 is automatically wrapping your environments in a compatibility layer, which could potentially cause issues.\n",
      "  warnings.warn(\n"
     ]
    }
   ],
   "source": [
    "# Define the PPO agent\n",
    "model = PPO(\"MlpPolicy\", env, verbose=1)"
   ]
  },
  {
   "cell_type": "code",
   "execution_count": 7,
   "id": "7ede6cdd",
   "metadata": {},
   "outputs": [
    {
     "name": "stdout",
     "output_type": "stream",
     "text": [
      "----------------------------------\n",
      "| rollout/           |           |\n",
      "|    ep_len_mean     | 200       |\n",
      "|    ep_rew_mean     | -1.29e+03 |\n",
      "| time/              |           |\n",
      "|    fps             | 2157      |\n",
      "|    iterations      | 1         |\n",
      "|    time_elapsed    | 0         |\n",
      "|    total_timesteps | 2048      |\n",
      "----------------------------------\n",
      "-----------------------------------------\n",
      "| rollout/                |             |\n",
      "|    ep_len_mean          | 200         |\n",
      "|    ep_rew_mean          | -1.22e+03   |\n",
      "| time/                   |             |\n",
      "|    fps                  | 1411        |\n",
      "|    iterations           | 2           |\n",
      "|    time_elapsed         | 2           |\n",
      "|    total_timesteps      | 4096        |\n",
      "| train/                  |             |\n",
      "|    approx_kl            | 0.004009378 |\n",
      "|    clip_fraction        | 0.0253      |\n",
      "|    clip_range           | 0.2         |\n",
      "|    entropy_loss         | -1.42       |\n",
      "|    explained_variance   | 0.00355     |\n",
      "|    learning_rate        | 0.0003      |\n",
      "|    loss                 | 4.36e+03    |\n",
      "|    n_updates            | 10          |\n",
      "|    policy_gradient_loss | -0.00213    |\n",
      "|    std                  | 0.996       |\n",
      "|    value_loss           | 1e+04       |\n",
      "-----------------------------------------\n",
      "-------------------------------------------\n",
      "| rollout/                |               |\n",
      "|    ep_len_mean          | 200           |\n",
      "|    ep_rew_mean          | -1.21e+03     |\n",
      "| time/                   |               |\n",
      "|    fps                  | 1259          |\n",
      "|    iterations           | 3             |\n",
      "|    time_elapsed         | 4             |\n",
      "|    total_timesteps      | 6144          |\n",
      "| train/                  |               |\n",
      "|    approx_kl            | 0.00027270388 |\n",
      "|    clip_fraction        | 0             |\n",
      "|    clip_range           | 0.2           |\n",
      "|    entropy_loss         | -1.41         |\n",
      "|    explained_variance   | 0.186         |\n",
      "|    learning_rate        | 0.0003        |\n",
      "|    loss                 | 3.73e+03      |\n",
      "|    n_updates            | 20            |\n",
      "|    policy_gradient_loss | -0.000103     |\n",
      "|    std                  | 0.994         |\n",
      "|    value_loss           | 7.47e+03      |\n",
      "-------------------------------------------\n",
      "------------------------------------------\n",
      "| rollout/                |              |\n",
      "|    ep_len_mean          | 200          |\n",
      "|    ep_rew_mean          | -1.21e+03    |\n",
      "| time/                   |              |\n",
      "|    fps                  | 1204         |\n",
      "|    iterations           | 4            |\n",
      "|    time_elapsed         | 6            |\n",
      "|    total_timesteps      | 8192         |\n",
      "| train/                  |              |\n",
      "|    approx_kl            | 0.0020342227 |\n",
      "|    clip_fraction        | 0.013        |\n",
      "|    clip_range           | 0.2          |\n",
      "|    entropy_loss         | -1.41        |\n",
      "|    explained_variance   | 0.0722       |\n",
      "|    learning_rate        | 0.0003       |\n",
      "|    loss                 | 3.7e+03      |\n",
      "|    n_updates            | 30           |\n",
      "|    policy_gradient_loss | -0.00276     |\n",
      "|    std                  | 0.995        |\n",
      "|    value_loss           | 8.07e+03     |\n",
      "------------------------------------------\n",
      "------------------------------------------\n",
      "| rollout/                |              |\n",
      "|    ep_len_mean          | 200          |\n",
      "|    ep_rew_mean          | -1.2e+03     |\n",
      "| time/                   |              |\n",
      "|    fps                  | 1174         |\n",
      "|    iterations           | 5            |\n",
      "|    time_elapsed         | 8            |\n",
      "|    total_timesteps      | 10240        |\n",
      "| train/                  |              |\n",
      "|    approx_kl            | 0.0039282935 |\n",
      "|    clip_fraction        | 0.0161       |\n",
      "|    clip_range           | 0.2          |\n",
      "|    entropy_loss         | -1.4         |\n",
      "|    explained_variance   | 0.025        |\n",
      "|    learning_rate        | 0.0003       |\n",
      "|    loss                 | 3.95e+03     |\n",
      "|    n_updates            | 40           |\n",
      "|    policy_gradient_loss | -0.00154     |\n",
      "|    std                  | 0.979        |\n",
      "|    value_loss           | 8.25e+03     |\n",
      "------------------------------------------\n"
     ]
    },
    {
     "data": {
      "text/plain": [
       "<stable_baselines3.ppo.ppo.PPO at 0x1edcdb60880>"
      ]
     },
     "execution_count": 7,
     "metadata": {},
     "output_type": "execute_result"
    }
   ],
   "source": [
    "# Train the agent\n",
    "model.learn(total_timesteps=10000)"
   ]
  },
  {
   "cell_type": "code",
   "execution_count": 8,
   "id": "03c33f89",
   "metadata": {},
   "outputs": [
    {
     "name": "stderr",
     "output_type": "stream",
     "text": [
      "C:\\Users\\AAKASH\\anaconda3\\lib\\site-packages\\stable_baselines3\\common\\vec_env\\patch_gym.py:49: UserWarning: You provided an OpenAI Gym environment. We strongly recommend transitioning to Gymnasium environments. Stable-Baselines3 is automatically wrapping your environments in a compatibility layer, which could potentially cause issues.\n",
      "  warnings.warn(\n",
      "C:\\Users\\AAKASH\\anaconda3\\lib\\site-packages\\stable_baselines3\\common\\evaluation.py:67: UserWarning: Evaluation environment is not wrapped with a ``Monitor`` wrapper. This may result in reporting modified episode lengths and rewards, if other wrappers happen to modify these. Consider wrapping environment first with ``Monitor`` wrapper.\n",
      "  warnings.warn(\n"
     ]
    },
    {
     "name": "stdout",
     "output_type": "stream",
     "text": [
      "Mean reward: -1249.97 +/- 298.29\n"
     ]
    }
   ],
   "source": [
    "# Evaluate the agent\n",
    "mean_reward, std_reward = evaluate_policy(model, env, n_eval_episodes=10, deterministic=True)\n",
    "print(f\"Mean reward: {mean_reward:.2f} +/- {std_reward:.2f}\")"
   ]
  },
  {
   "cell_type": "code",
   "execution_count": 9,
   "id": "0781c215",
   "metadata": {},
   "outputs": [],
   "source": [
    "# Helper function to evaluate the agent\n",
    "def evaluate(model, env, n_eval_episodes=10):\n",
    "    rewards = []\n",
    "    for _ in range(n_eval_episodes):\n",
    "        obs = env.reset()\n",
    "        episode_reward = 0\n",
    "        done = False\n",
    "        while not done:\n",
    "            action, _ = model.predict(obs, deterministic=True)\n",
    "            obs, reward, done, _ = env.step(action)\n",
    "            episode_reward += reward\n",
    "        rewards.append(episode_reward)\n",
    "    \n",
    "    mean_reward = np.mean(rewards)\n",
    "    std_reward = np.std(rewards)\n",
    "    \n",
    "    return mean_reward, std_reward"
   ]
  },
  {
   "cell_type": "code",
   "execution_count": null,
   "id": "5a0742ac",
   "metadata": {},
   "outputs": [],
   "source": []
  }
 ],
 "metadata": {
  "kernelspec": {
   "display_name": "Python 3 (ipykernel)",
   "language": "python",
   "name": "python3"
  },
  "language_info": {
   "codemirror_mode": {
    "name": "ipython",
    "version": 3
   },
   "file_extension": ".py",
   "mimetype": "text/x-python",
   "name": "python",
   "nbconvert_exporter": "python",
   "pygments_lexer": "ipython3",
   "version": "3.9.7"
  }
 },
 "nbformat": 4,
 "nbformat_minor": 5
}
